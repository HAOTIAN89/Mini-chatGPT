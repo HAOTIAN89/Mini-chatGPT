{
 "cells": [
  {
   "cell_type": "code",
   "execution_count": 1,
   "id": "54a5b452",
   "metadata": {},
   "outputs": [],
   "source": [
    "import torch\n",
    "from transformers import GPT2Tokenizer, GPT2LMHeadModel, AdamW, get_cosine_schedule_with_warmup, GPT2ForSequenceClassification\n",
    "from torch.utils.data import Dataset, DataLoader\n",
    "import json\n",
    "import os\n",
    "\n",
    "device = torch.device(\"cuda\" if torch.cuda.is_available() else \"cpu\")"
   ]
  },
  {
   "cell_type": "code",
   "execution_count": 2,
   "id": "2f4ce499",
   "metadata": {},
   "outputs": [],
   "source": [
    "%load_ext autoreload\n",
    "%autoreload 2\n",
    "%matplotlib inline"
   ]
  },
  {
   "cell_type": "code",
   "execution_count": 3,
   "id": "f0e097a2",
   "metadata": {},
   "outputs": [],
   "source": [
    "MODEL_NAME = 'gpt2-medium'"
   ]
  },
  {
   "cell_type": "code",
   "execution_count": 4,
   "id": "2e3deae8",
   "metadata": {},
   "outputs": [],
   "source": [
    "# Set hyperparameters\n",
    "learning_rate = 1e-5\n",
    "epochs = 8\n",
    "dropout = 0.2\n",
    "batch_size = 1"
   ]
  },
  {
   "cell_type": "code",
   "execution_count": 5,
   "id": "cb79cc3e",
   "metadata": {},
   "outputs": [],
   "source": [
    "# Load fine-tuning model\n",
    "tokenizer = GPT2Tokenizer.from_pretrained(MODEL_NAME)\n",
    "tokenizer.pad_token = tokenizer.eos_token\n",
    "model = GPT2LMHeadModel.from_pretrained(MODEL_NAME).to(device)"
   ]
  },
  {
   "cell_type": "code",
   "execution_count": 6,
   "id": "6fc4c5f2",
   "metadata": {},
   "outputs": [],
   "source": [
    "# Define the optimizer and scheduler\n",
    "optimizer = torch.optim.AdamW(model.parameters(), lr=learning_rate)\n",
    "scheduler = get_cosine_schedule_with_warmup(optimizer, num_warmup_steps=0, num_training_steps=-1, last_epoch=-1)"
   ]
  },
  {
   "cell_type": "code",
   "execution_count": 7,
   "id": "0a5f8e95",
   "metadata": {},
   "outputs": [],
   "source": [
    "class ChatDataset(Dataset):\n",
    "    def __init__(self, filename, augmentation=True):\n",
    "        with open(filename, 'r') as f:\n",
    "            raw_data = json.load(f)\n",
    "            \n",
    "        if augmentation:\n",
    "            with open('data/gen_dataset_mhy_math.json', 'r') as f1:\n",
    "                math_data = json.load(f1)\n",
    "            with open('data/gen_dataset_mhy_openbookqa.json', 'r') as f2:\n",
    "                code_data = json.load(f2) \n",
    "            raw_data.extend(math_data)\n",
    "            raw_data.extend(code_data)\n",
    "            self.data = raw_data\n",
    "        else:\n",
    "            self.data = raw_data\n",
    "        \n",
    "    def __len__(self):\n",
    "        return len(self.data)\n",
    "\n",
    "    def __getitem__(self, idx):\n",
    "        chat = self.data[idx]['chat']\n",
    "        instruction, demonstration = chat.rsplit('Assistant: ', 1)\n",
    "        instruction = instruction + 'Assistant: '\n",
    "            \n",
    "        return instruction, demonstration, chat"
   ]
  },
  {
   "cell_type": "code",
   "execution_count": 8,
   "id": "a5da2a51",
   "metadata": {},
   "outputs": [],
   "source": [
    "# Load the dataset\n",
    "train_dataset = ChatDataset('data/gen_dataset_mhy_train.json', augmentation=True)\n",
    "train_loader = DataLoader(train_dataset, batch_size=batch_size)\n",
    "eval_dataset = ChatDataset('data/gen_dataset_mhy_val.json', augmentation=False)\n",
    "eval_loader = DataLoader(eval_dataset, batch_size=batch_size)"
   ]
  },
  {
   "cell_type": "code",
   "execution_count": 9,
   "id": "7304d037",
   "metadata": {},
   "outputs": [],
   "source": [
    "# model validation\n",
    "def evaluate(eval_loader, model, device, chat_max_length):\n",
    "    model.eval()\n",
    "    eval_loss_sum = 0\n",
    "    num_eval_batches = 0\n",
    "    \n",
    "    with torch.no_grad():\n",
    "        for step, batch in enumerate(eval_loader):\n",
    "            \n",
    "            # Tokenize the chat\n",
    "            chat = tokenizer(batch[2], return_tensors='pt', max_length=chat_max_length, padding=\"max_length\", truncation=True).input_ids.to(device) \n",
    "\n",
    "            # Count the length of instruction and demonstration\n",
    "            instruction = batch[0]\n",
    "            demonstration = batch[1]\n",
    "            instruction_tokens_num = [tokenizer(item, return_tensors='pt').input_ids.size(1) for item in instruction] \n",
    "            demonstration_tokens_num = [tokenizer(item, return_tensors='pt').input_ids.size(1) for item in demonstration]\n",
    "            assert instruction_tokens_num[0] + demonstration_tokens_num[0] <= chat_max_length, \"The length of chat is larger than chat_max_length\"\n",
    "\n",
    "            # Add the eos_token to the end of demonstration if the length of original demonstration is less than 512\n",
    "            demonstration_tokens_num = [demonstration_tokens_num[0] if instruction_tokens_num[0] + demonstration_tokens_num[0] == chat_max_length else demonstration_tokens_num[0]+1] \n",
    "\n",
    "            # Get the input_ids and target_ids\n",
    "            input_ids = chat\n",
    "            target_ids = input_ids.clone() \n",
    "\n",
    "            # Forward pass through the model\n",
    "            outputs = model(input_ids, labels=target_ids)\n",
    "            logits = outputs.logits\n",
    "\n",
    "            # Only consider the loss for the demonstration part\n",
    "            logits_demo = logits[:, instruction_tokens_num[0]-1:instruction_tokens_num[0]+demonstration_tokens_num[0]-1, :]         # [batch size, demonstration_max_length, number of classes]\n",
    "            target_ids_demo = target_ids[:, instruction_tokens_num[0]:instruction_tokens_num[0]+demonstration_tokens_num[0]]         # [batch size, demonstration_max_length]\n",
    "            batch_loss = torch.nn.functional.cross_entropy(logits_demo.permute(0, 2, 1), target_ids_demo) \n",
    "\n",
    "            eval_loss_sum += batch_loss.item()\n",
    "            num_eval_batches = step+1\n",
    "            \n",
    "    return eval_loss_sum / num_eval_batches"
   ]
  },
  {
   "cell_type": "code",
   "execution_count": 10,
   "id": "0afa3504",
   "metadata": {},
   "outputs": [
    {
     "name": "stdout",
     "output_type": "stream",
     "text": [
      "epoch 1\n",
      "At step 0, the loss = 3.2312095165252686\n",
      "Validation Loss: 2.0414137158774883\n"
     ]
    },
    {
     "ename": "KeyboardInterrupt",
     "evalue": "",
     "output_type": "error",
     "traceback": [
      "\u001b[0;31m---------------------------------------------------------------------------\u001b[0m",
      "\u001b[0;31mKeyboardInterrupt\u001b[0m                         Traceback (most recent call last)",
      "Cell \u001b[0;32mIn[10], line 44\u001b[0m\n\u001b[1;32m     41\u001b[0m batch_loss \u001b[39m=\u001b[39m torch\u001b[39m.\u001b[39mnn\u001b[39m.\u001b[39mfunctional\u001b[39m.\u001b[39mcross_entropy(logits_demo\u001b[39m.\u001b[39mpermute(\u001b[39m0\u001b[39m, \u001b[39m2\u001b[39m, \u001b[39m1\u001b[39m), target_ids_demo)\n\u001b[1;32m     43\u001b[0m \u001b[39m# Backward and optimize\u001b[39;00m\n\u001b[0;32m---> 44\u001b[0m batch_loss\u001b[39m.\u001b[39;49mbackward()\n\u001b[1;32m     45\u001b[0m optimizer\u001b[39m.\u001b[39mstep()\n\u001b[1;32m     46\u001b[0m scheduler\u001b[39m.\u001b[39mstep()\n",
      "File \u001b[0;32m~/miniconda3/envs/a2/lib/python3.9/site-packages/torch/_tensor.py:488\u001b[0m, in \u001b[0;36mTensor.backward\u001b[0;34m(self, gradient, retain_graph, create_graph, inputs)\u001b[0m\n\u001b[1;32m    478\u001b[0m \u001b[39mif\u001b[39;00m has_torch_function_unary(\u001b[39mself\u001b[39m):\n\u001b[1;32m    479\u001b[0m     \u001b[39mreturn\u001b[39;00m handle_torch_function(\n\u001b[1;32m    480\u001b[0m         Tensor\u001b[39m.\u001b[39mbackward,\n\u001b[1;32m    481\u001b[0m         (\u001b[39mself\u001b[39m,),\n\u001b[0;32m   (...)\u001b[0m\n\u001b[1;32m    486\u001b[0m         inputs\u001b[39m=\u001b[39minputs,\n\u001b[1;32m    487\u001b[0m     )\n\u001b[0;32m--> 488\u001b[0m torch\u001b[39m.\u001b[39;49mautograd\u001b[39m.\u001b[39;49mbackward(\n\u001b[1;32m    489\u001b[0m     \u001b[39mself\u001b[39;49m, gradient, retain_graph, create_graph, inputs\u001b[39m=\u001b[39;49minputs\n\u001b[1;32m    490\u001b[0m )\n",
      "File \u001b[0;32m~/miniconda3/envs/a2/lib/python3.9/site-packages/torch/autograd/__init__.py:197\u001b[0m, in \u001b[0;36mbackward\u001b[0;34m(tensors, grad_tensors, retain_graph, create_graph, grad_variables, inputs)\u001b[0m\n\u001b[1;32m    192\u001b[0m     retain_graph \u001b[39m=\u001b[39m create_graph\n\u001b[1;32m    194\u001b[0m \u001b[39m# The reason we repeat same the comment below is that\u001b[39;00m\n\u001b[1;32m    195\u001b[0m \u001b[39m# some Python versions print out the first line of a multi-line function\u001b[39;00m\n\u001b[1;32m    196\u001b[0m \u001b[39m# calls in the traceback and some print out the last line\u001b[39;00m\n\u001b[0;32m--> 197\u001b[0m Variable\u001b[39m.\u001b[39;49m_execution_engine\u001b[39m.\u001b[39;49mrun_backward(  \u001b[39m# Calls into the C++ engine to run the backward pass\u001b[39;49;00m\n\u001b[1;32m    198\u001b[0m     tensors, grad_tensors_, retain_graph, create_graph, inputs,\n\u001b[1;32m    199\u001b[0m     allow_unreachable\u001b[39m=\u001b[39;49m\u001b[39mTrue\u001b[39;49;00m, accumulate_grad\u001b[39m=\u001b[39;49m\u001b[39mTrue\u001b[39;49;00m)\n",
      "\u001b[0;31mKeyboardInterrupt\u001b[0m: "
     ]
    }
   ],
   "source": [
    "# model training\n",
    "best_eval_loss = 100\n",
    "save_path = \"./models/sft_model/sft_model_gpt2_with_original_data\"\n",
    "\n",
    "model.train()\n",
    "model.zero_grad()\n",
    "\n",
    "\n",
    "for epoch in range(epochs):\n",
    "    print(f'epoch {epoch+1}')\n",
    "    epoch_loss = 0\n",
    "    num_batches = 0\n",
    "\n",
    "    for step, batch in enumerate(train_loader):\n",
    "        optimizer.zero_grad()\n",
    "\n",
    "        # Tokenize the chat\n",
    "        chat = tokenizer(batch[2], return_tensors='pt', max_length=1024, padding=\"max_length\", truncation=True).input_ids.to(device) \n",
    "\n",
    "        # Count the length of instruction and demonstration\n",
    "        instruction = batch[0]\n",
    "        demonstration = batch[1]\n",
    "        instruction_tokens_num = [tokenizer(item, return_tensors='pt').input_ids.size(1) for item in instruction] \n",
    "        demonstration_tokens_num = [tokenizer(item, return_tensors='pt').input_ids.size(1) for item in demonstration]\n",
    "        assert instruction_tokens_num[0] + demonstration_tokens_num[0] <= 1024, \"The length of chat is larger than chat max length\"\n",
    "\n",
    "        # Add the eos_token to the end of demonstration if the length of original demonstration is less than 512\n",
    "        demonstration_tokens_num = [demonstration_tokens_num[0] if instruction_tokens_num[0] + demonstration_tokens_num[0] == 1024 else demonstration_tokens_num[0]+1] \n",
    "\n",
    "        # Get the input_ids and target_ids\n",
    "        input_ids = chat\n",
    "        target_ids = input_ids.clone() \n",
    "\n",
    "        # Forward pass through the model\n",
    "        outputs = model(input_ids, labels=target_ids)\n",
    "        logits = outputs.logits\n",
    "\n",
    "        # Only consider the loss for the demonstration part\n",
    "        logits_demo = logits[:, instruction_tokens_num[0]-1:instruction_tokens_num[0]+demonstration_tokens_num[0]-1, :]         # [batch size, demonstration_max_length, number of classes]\n",
    "        target_ids_demo = target_ids[:, instruction_tokens_num[0]:instruction_tokens_num[0]+demonstration_tokens_num[0]]         # [batch size, demonstration_max_length]\n",
    "        batch_loss = torch.nn.functional.cross_entropy(logits_demo.permute(0, 2, 1), target_ids_demo)\n",
    "        \n",
    "        # Backward and optimize\n",
    "        batch_loss.backward()\n",
    "        optimizer.step()\n",
    "        scheduler.step()\n",
    "        \n",
    "        if step % 400 == 0:\n",
    "            print(f'At step {step}, the loss = {batch_loss.item()}') \n",
    "            eval_loss = evaluate(eval_loader, model, device, 1024)  \n",
    "            print(f'Validation Loss: {eval_loss}')\n",
    "\n",
    "        epoch_loss += batch_loss.item()\n",
    "        num_batches = step+1\n",
    "        \n",
    "    train_loss = epoch_loss / num_batches\n",
    "    eval_loss = evaluate(eval_loader, model, device, 1024)    \n",
    "    print(f'Epoch: {epoch} | Training Loss: {train_loss} | Validation Loss: {eval_loss}')\n",
    "    \n",
    "    \n",
    "    if eval_loss < best_eval_loss:\n",
    "            best_eval_loss = eval_loss\n",
    "            model.save_pretrained(save_path)\n",
    "            tokenizer.save_pretrained(save_path)\n",
    "            print(\"Model Saved!\")    "
   ]
  },
  {
   "cell_type": "code",
   "execution_count": 11,
   "id": "21958c3f",
   "metadata": {},
   "outputs": [],
   "source": [
    "torch.cuda.empty_cache()"
   ]
  },
  {
   "cell_type": "code",
   "execution_count": 49,
   "id": "6e203461",
   "metadata": {},
   "outputs": [],
   "source": [
    "MODEL_PATH = \"./models/sft_model/sft_model_gpt2_with_original_data\"\n",
    "tokenizer = GPT2Tokenizer.from_pretrained(MODEL_PATH)\n",
    "model = GPT2LMHeadModel.from_pretrained(MODEL_PATH).to(device)\n"
   ]
  },
  {
   "cell_type": "code",
   "execution_count": 8,
   "id": "379fffb5",
   "metadata": {},
   "outputs": [
    {
     "name": "stderr",
     "output_type": "stream",
     "text": [
      "Setting `pad_token_id` to `eos_token_id`:50256 for open-end generation.\n"
     ]
    },
    {
     "name": "stdout",
     "output_type": "stream",
     "text": [
      "0: What tools are typically used to study gene regulatory networks?, choices: [Computational modeling, Genetic knockouts, Patch-clamp, Behavioral studies], please find the suitable choices.\n",
      "\n",
      "1: What tools are typically used to study gene regulatory networks?, choices: [Computational modeling, Genetic knockouts, Patch-clamp, Behavioral studies], please find the suitable choices.\n",
      "\n",
      "What is the difference between gene regulation and gene expression? [Regulation vs. Expression], choose the appropriate answer.\n",
      "\n",
      "2: What tools are typically used to study gene regulatory networks?, choices: [Computational modeling, Genetic knockouts, Patch-clamp, Behavioral studies], please find the suitable choices.\n",
      "\n",
      "What is the difference between gene regulation and gene expression? [Regulation vs. Expression], choose the correct answer.\n",
      "\n",
      "3: What tools are typically used to study gene regulatory networks?, choices: [Computational modeling, Genetic knockouts, Patch-clamp, Behavioral studies], please find the suitable choices.\n",
      "\n",
      "What is the difference between gene regulation and gene expression? [Regulation vs. Expression], choose the appropriate choice.\n",
      "\n",
      "4: What tools are typically used to study gene regulatory networks?, choices: [Computational modeling, Genetic knockouts, Patch-clamp, Behavioral studies], please find the suitable choices.\n",
      "\n",
      "What is the difference between gene regulation and gene expression? [Regulation vs. Expression], choose the appropriate answer. If you are not sure, please check the answer to the previous question.\n",
      "\n"
     ]
    }
   ],
   "source": [
    "# Set the model to evaluation mode\n",
    "model.eval()\n",
    "\n",
    "# Define the input question\n",
    "question = \"What tools are typically used to study gene regulatory networks?, choices: [Computational modeling, Genetic knockouts, Patch-clamp, Behavioral studies], please find the suitable choices.\"\n",
    "# Tokenize the input question\n",
    "input_ids = tokenizer.encode(question, return_tensors='pt').to(device)\n",
    "\n",
    "# Generate the attention mask\n",
    "attention_mask = torch.ones_like(input_ids).to(device)\n",
    "\n",
    "# Generate the answer\n",
    "output = model.generate(input_ids=input_ids, attention_mask = attention_mask, max_length=100, num_beams=5, no_repeat_ngram_size=2, num_return_sequences=5, early_stopping=True)\n",
    "\n",
    "# Decode and print the response\n",
    "# response = tokenizer.decode(output[0], skip_special_tokens=True)\n",
    "# print(\"Response:\", response)\n",
    "\n",
    "for i, beam in enumerate(output):\n",
    "    print(f\"{i}: {tokenizer.decode(beam, skip_special_tokens=True)}\")\n",
    "    print()"
   ]
  },
  {
   "cell_type": "code",
   "execution_count": 23,
   "id": "1f741e9a",
   "metadata": {},
   "outputs": [],
   "source": [
    "# new model validation\n",
    "def evaluate(eval_loader, model, device, chat_max_length):\n",
    "    model.eval()\n",
    "    eval_loss_sum = 0\n",
    "    num_eval_batches = 0\n",
    "    \n",
    "    with torch.no_grad():\n",
    "        for step, batch in enumerate(eval_loader):\n",
    "            \n",
    "            # Tokenize the chat\n",
    "            chat = tokenizer(batch[2], return_tensors='pt', max_length=chat_max_length, padding=\"max_length\", truncation=True).input_ids.to(device) \n",
    "\n",
    "            # Count the length of instruction and demonstration\n",
    "            instruction_tokens_num = [tokenizer(item, return_tensors='pt').input_ids.size(1) for item in batch[0]][0]\n",
    "            demonstration_tokens_num = [tokenizer(item, return_tensors='pt').input_ids.size(1) for item in batch[1]][0]\n",
    "            \n",
    "            # Get the input_ids and target_ids\n",
    "            input_ids = chat\n",
    "            target_ids = input_ids.clone() \n",
    "\n",
    "            # Forward pass through the model\n",
    "            outputs = model(input_ids, labels=target_ids)\n",
    "            logits = outputs.logits\n",
    "\n",
    "            # Only consider the loss for the demonstration part\n",
    "            logits_demo = logits[:, instruction_tokens_num-1:-1, :]         # [batch size, demonstration_max_length, number of classes]\n",
    "            target_ids_demo = target_ids[:, instruction_tokens_num:]        # [batch size, demonstration_max_length]\n",
    "            batch_loss = torch.nn.functional.cross_entropy(logits_demo.permute(0, 2, 1), target_ids_demo) \n",
    "\n",
    "            eval_loss_sum += batch_loss.item()\n",
    "            num_eval_batches = step+1\n",
    "            \n",
    "    return eval_loss_sum / num_eval_batches"
   ]
  },
  {
   "cell_type": "code",
   "execution_count": 24,
   "id": "3d7af898",
   "metadata": {},
   "outputs": [
    {
     "name": "stdout",
     "output_type": "stream",
     "text": [
      "epoch 1\n",
      "At step 0, the loss = 4.567424774169922\n"
     ]
    },
    {
     "ename": "KeyboardInterrupt",
     "evalue": "",
     "output_type": "error",
     "traceback": [
      "\u001b[0;31m---------------------------------------------------------------------------\u001b[0m",
      "\u001b[0;31mKeyboardInterrupt\u001b[0m                         Traceback (most recent call last)",
      "Cell \u001b[0;32mIn[24], line 44\u001b[0m\n\u001b[1;32m     42\u001b[0m \u001b[39mif\u001b[39;00m step \u001b[39m%\u001b[39m \u001b[39m400\u001b[39m \u001b[39m==\u001b[39m \u001b[39m0\u001b[39m:\n\u001b[1;32m     43\u001b[0m     \u001b[39mprint\u001b[39m(\u001b[39mf\u001b[39m\u001b[39m'\u001b[39m\u001b[39mAt step \u001b[39m\u001b[39m{\u001b[39;00mstep\u001b[39m}\u001b[39;00m\u001b[39m, the loss = \u001b[39m\u001b[39m{\u001b[39;00mbatch_loss\u001b[39m.\u001b[39mitem()\u001b[39m}\u001b[39;00m\u001b[39m'\u001b[39m) \n\u001b[0;32m---> 44\u001b[0m     eval_loss \u001b[39m=\u001b[39m evaluate(eval_loader, model, device, \u001b[39m1024\u001b[39;49m)  \n\u001b[1;32m     45\u001b[0m     \u001b[39mprint\u001b[39m(\u001b[39mf\u001b[39m\u001b[39m'\u001b[39m\u001b[39mValidation Loss: \u001b[39m\u001b[39m{\u001b[39;00meval_loss\u001b[39m}\u001b[39;00m\u001b[39m'\u001b[39m)\n\u001b[1;32m     47\u001b[0m epoch_loss \u001b[39m+\u001b[39m\u001b[39m=\u001b[39m batch_loss\u001b[39m.\u001b[39mitem()\n",
      "Cell \u001b[0;32mIn[23], line 30\u001b[0m, in \u001b[0;36mevaluate\u001b[0;34m(eval_loader, model, device, chat_max_length)\u001b[0m\n\u001b[1;32m     27\u001b[0m         target_ids_demo \u001b[39m=\u001b[39m target_ids[:, instruction_tokens_num:]        \u001b[39m# [batch size, demonstration_max_length]\u001b[39;00m\n\u001b[1;32m     28\u001b[0m         batch_loss \u001b[39m=\u001b[39m torch\u001b[39m.\u001b[39mnn\u001b[39m.\u001b[39mfunctional\u001b[39m.\u001b[39mcross_entropy(logits_demo\u001b[39m.\u001b[39mpermute(\u001b[39m0\u001b[39m, \u001b[39m2\u001b[39m, \u001b[39m1\u001b[39m), target_ids_demo) \n\u001b[0;32m---> 30\u001b[0m         eval_loss_sum \u001b[39m+\u001b[39m\u001b[39m=\u001b[39m batch_loss\u001b[39m.\u001b[39;49mitem()\n\u001b[1;32m     31\u001b[0m         num_eval_batches \u001b[39m=\u001b[39m step\u001b[39m+\u001b[39m\u001b[39m1\u001b[39m\n\u001b[1;32m     33\u001b[0m \u001b[39mreturn\u001b[39;00m eval_loss_sum \u001b[39m/\u001b[39m num_eval_batches\n",
      "\u001b[0;31mKeyboardInterrupt\u001b[0m: "
     ]
    }
   ],
   "source": [
    "# new model training\n",
    "best_eval_loss = 100\n",
    "save_path = \"./models/sft_model/sft_model_gpt2_medium_with_augmentation_data\"\n",
    "\n",
    "model.train()\n",
    "model.zero_grad()\n",
    "\n",
    "\n",
    "for epoch in range(epochs):\n",
    "    print(f'epoch {epoch+1}')\n",
    "    epoch_loss = 0\n",
    "    num_batches = 0\n",
    "\n",
    "    for step, batch in enumerate(train_loader):\n",
    "        optimizer.zero_grad()\n",
    "\n",
    "        # Tokenize the chat\n",
    "        chat = tokenizer(batch[2], return_tensors='pt', max_length=1024, padding=\"max_length\", truncation=True).input_ids.to(device) \n",
    "\n",
    "        # Count the length of instruction and demonstration\n",
    "        instruction_tokens_num = [tokenizer(item, return_tensors='pt').input_ids.size(1) for item in batch[0]][0]\n",
    "        demonstration_tokens_num = [tokenizer(item, return_tensors='pt').input_ids.size(1) for item in batch[1]][0]\n",
    "\n",
    "        # Get the input_ids and target_ids\n",
    "        input_ids = chat\n",
    "        target_ids = input_ids.clone() \n",
    "\n",
    "        # Forward pass through the model\n",
    "        outputs = model(input_ids, labels=target_ids)\n",
    "        logits = outputs.logits\n",
    "\n",
    "        # Only consider the loss for the demonstration part\n",
    "        logits_demo = logits[:, instruction_tokens_num-1:-1, :]         # [batch size, demonstration_max_length, number of classes]\n",
    "        target_ids_demo = target_ids[:, instruction_tokens_num:]        # [batch size, demonstration_max_length]\n",
    "        batch_loss = torch.nn.functional.cross_entropy(logits_demo.permute(0, 2, 1), target_ids_demo)\n",
    "        \n",
    "        # Backward and optimize\n",
    "        batch_loss.backward()\n",
    "        optimizer.step()\n",
    "        scheduler.step()\n",
    "        \n",
    "        if step % 400 == 0:\n",
    "            print(f'At step {step}, the loss = {batch_loss.item()}') \n",
    "            eval_loss = evaluate(eval_loader, model, device, 1024)  \n",
    "            print(f'Validation Loss: {eval_loss}')\n",
    "\n",
    "        epoch_loss += batch_loss.item()\n",
    "        num_batches = step+1\n",
    "        \n",
    "    train_loss = epoch_loss / num_batches\n",
    "    eval_loss = evaluate(eval_loader, model, device, 1024)    \n",
    "    print(f'Epoch: {epoch} | Training Loss: {train_loss} | Validation Loss: {eval_loss}')\n",
    "\n",
    "    if eval_loss < best_eval_loss:\n",
    "            best_eval_loss = eval_loss\n",
    "            model.save_pretrained(save_path)\n",
    "            tokenizer.save_pretrained(save_path)\n",
    "            print(\"Model Saved!\")    "
   ]
  }
 ],
 "metadata": {
  "kernelspec": {
   "display_name": "Python 3 (ipykernel)",
   "language": "python",
   "name": "python3"
  },
  "language_info": {
   "codemirror_mode": {
    "name": "ipython",
    "version": 3
   },
   "file_extension": ".py",
   "mimetype": "text/x-python",
   "name": "python",
   "nbconvert_exporter": "python",
   "pygments_lexer": "ipython3",
   "version": "3.9.16"
  }
 },
 "nbformat": 4,
 "nbformat_minor": 5
}
